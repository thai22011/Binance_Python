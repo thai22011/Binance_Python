{
 "cells": [
  {
   "cell_type": "code",
   "execution_count": 1,
   "id": "3b3b659e",
   "metadata": {},
   "outputs": [],
   "source": [
    "# Binance API \n",
    "# Need to install python-binance package\n",
    "# pip install python-binance\n",
    "from binance import Client as c\n",
    "from binance import BinanceSocketManager as bsm\n",
    "from binance import ThreadedDepthCacheManager as tdcm\n",
    "\n",
    "# General libraries\n",
    "import pandas as pd\n",
    "import numpy as np\n",
    "\n",
    "# Plotting libraries\n",
    "import seaborn as sns\n",
    "import matplotlib.pyplot as plt\n",
    "%matplotlib inline\n",
    "import plotly.express as px\n",
    "from plotly.subplots import make_subplots\n",
    "import plotly.graph_objs as go\n",
    "\n",
    "# stats\n",
    "from statsmodels.api import tsa # time series analysis\n",
    "import statsmodels.api as sm\n",
    "from scipy import stats\n",
    "from scipy.stats import norm\n",
    "\n",
    "import math\n",
    "import os\n",
    "import time\n",
    "import glob\n",
    "from datetime import datetime, timedelta\n",
    "from dateutil import parser"
   ]
  },
  {
   "cell_type": "markdown",
   "id": "9bc88cc9",
   "metadata": {},
   "source": [
    "<a class=\"anchor\" id=\"1\"></a>\n",
    "\n",
    "# 1. Building the DataFrame \n",
    "\n",
    "[Back To Top](#toc)"
   ]
  },
  {
   "attachments": {},
   "cell_type": "markdown",
   "id": "75b0379f",
   "metadata": {},
   "source": [
    "The code below used to contained the api keys to extract data from Binance exchange. To generate your own api keys, please do the following:\n",
    "\n",
    "1. Create an account on Binance\n",
    "2. Login and Verify your account aka. KYC (Know-your-customer)\n",
    "3. Access https://www.binance.com/en/binance-api\n",
    "4. In the API section, you will have an option to generate a new API key combination including api_key and api_secret.\n",
    "5. Replace your keys in 'XXX' below and run the following command\n",
    "\n",
    "Voila! Just in 5 steps, you will be able to access the K-line data (trading data) of all the cryptos that are listed on Binance. \n",
    "\n",
    "The clean dataframe is included in this package as [1H_combined_clean.pkl](https://drive.google.com/file/d/1frgZHZL5LNqe6A9-NySEFSO9ekSN2IMA/view?usp=share_link). This file is used to run other notebook. No need to re-run this notebook"
   ]
  },
  {
   "cell_type": "code",
   "execution_count": 3,
   "id": "42b8df7b",
   "metadata": {},
   "outputs": [],
   "source": [
    "# This is the public and private key provided by Binance API\n",
    "# It is a READ-ONLY api and the way Binance set it up, it may not read at a stranger IP address. \n",
    "# May only read if we are at BrainStation Vancouver office\n",
    "api_key = 'XXX'\n",
    "api_secret = 'XXX'\n",
    "\n",
    "client = c(api_key, api_secret)"
   ]
  },
  {
   "cell_type": "markdown",
   "id": "64bd70c7",
   "metadata": {},
   "source": [
    "<a class=\"anchor\" id=\"1.1\"></a>\n",
    "## 1.1 Extract USDT Trading pairs\n",
    "[Back To Top](#toc)"
   ]
  },
  {
   "attachments": {},
   "cell_type": "markdown",
   "id": "caafc639",
   "metadata": {},
   "source": [
    "The codes in Section 1.1 are referenced from Nicholas Renotte in the video: Exploratory Data Analysis with the Binance API using Python and Pandas | MLTrader EP1 on Youtube. \n",
    "\n",
    "https://www.youtube.com/watch?v=4aqx5P2Y38U&t=545s"
   ]
  },
  {
   "cell_type": "markdown",
   "id": "5a0ba480",
   "metadata": {},
   "source": [
    "<a class=\"anchor\" id=\"1.1\"></a>\n",
    "### 1.1.1 Access all USDT pairs\n",
    "[Back To Top](#toc)"
   ]
  },
  {
   "cell_type": "code",
   "execution_count": 3,
   "id": "8aadf73b",
   "metadata": {},
   "outputs": [
    {
     "data": {
      "text/plain": [
       "(413, 1)"
      ]
     },
     "execution_count": 3,
     "metadata": {},
     "output_type": "execute_result"
    }
   ],
   "source": [
    "# Access all ticket + immedate price\n",
    "tickers = client.get_all_tickers()\n",
    "#put them into a DF\n",
    "tickers_df = pd.DataFrame(tickers)\n",
    "\n",
    "# Filter out only ticker that is pair USDT\n",
    "tickers_df = tickers_df[tickers_df['symbol'].str.contains('USDT')]\n",
    "\n",
    "# Filter out all the forex and stable coins\n",
    "tickers_df = tickers_df[tickers_df['symbol'].str.contains('^USD*')==False]\n",
    "# Use Symbol as the index instead of default index\n",
    "tickers_df.set_index('symbol', inplace =True) #inplace=True apply the function to the dataframe\n",
    "\n",
    "# check the DF\n",
    "tickers_df.shape"
   ]
  },
  {
   "cell_type": "code",
   "execution_count": 4,
   "id": "90a06f5a",
   "metadata": {},
   "outputs": [
    {
     "data": {
      "text/plain": [
       "price    17135.88000000\n",
       "Name: BTCUSDT, dtype: object"
      ]
     },
     "execution_count": 4,
     "metadata": {},
     "output_type": "execute_result"
    }
   ],
   "source": [
    "# use this code to check for a specific pair\n",
    "tickers_df.loc['BTCUSDT']"
   ]
  },
  {
   "cell_type": "code",
   "execution_count": 5,
   "id": "351e5cc4",
   "metadata": {},
   "outputs": [
    {
     "data": {
      "text/html": [
       "<div>\n",
       "<style scoped>\n",
       "    .dataframe tbody tr th:only-of-type {\n",
       "        vertical-align: middle;\n",
       "    }\n",
       "\n",
       "    .dataframe tbody tr th {\n",
       "        vertical-align: top;\n",
       "    }\n",
       "\n",
       "    .dataframe thead th {\n",
       "        text-align: right;\n",
       "    }\n",
       "</style>\n",
       "<table border=\"1\" class=\"dataframe\">\n",
       "  <thead>\n",
       "    <tr style=\"text-align: right;\">\n",
       "      <th></th>\n",
       "      <th>price</th>\n",
       "    </tr>\n",
       "    <tr>\n",
       "      <th>symbol</th>\n",
       "      <th></th>\n",
       "    </tr>\n",
       "  </thead>\n",
       "  <tbody>\n",
       "    <tr>\n",
       "      <th>BTCUSDT</th>\n",
       "      <td>17135.88000000</td>\n",
       "    </tr>\n",
       "    <tr>\n",
       "      <th>ETHUSDT</th>\n",
       "      <td>1269.89000000</td>\n",
       "    </tr>\n",
       "    <tr>\n",
       "      <th>BNBUSDT</th>\n",
       "      <td>288.00000000</td>\n",
       "    </tr>\n",
       "    <tr>\n",
       "      <th>BCCUSDT</th>\n",
       "      <td>448.70000000</td>\n",
       "    </tr>\n",
       "    <tr>\n",
       "      <th>NEOUSDT</th>\n",
       "      <td>7.20000000</td>\n",
       "    </tr>\n",
       "  </tbody>\n",
       "</table>\n",
       "</div>"
      ],
      "text/plain": [
       "                  price\n",
       "symbol                 \n",
       "BTCUSDT  17135.88000000\n",
       "ETHUSDT   1269.89000000\n",
       "BNBUSDT    288.00000000\n",
       "BCCUSDT    448.70000000\n",
       "NEOUSDT      7.20000000"
      ]
     },
     "execution_count": 5,
     "metadata": {},
     "output_type": "execute_result"
    }
   ],
   "source": [
    "# Check he DF:\n",
    "tickers_df.head()"
   ]
  },
  {
   "cell_type": "code",
   "execution_count": 6,
   "id": "2fc09af4",
   "metadata": {
    "scrolled": true
   },
   "outputs": [
    {
     "data": {
      "text/plain": [
       "'HOOKUSDT'"
      ]
     },
     "execution_count": 6,
     "metadata": {},
     "output_type": "execute_result"
    }
   ],
   "source": [
    "# Check for the newest crypto pairs on Binance\n",
    "tickers_df.index[tickers_df.shape[0]-1]"
   ]
  },
  {
   "cell_type": "markdown",
   "id": "f6cd9f01",
   "metadata": {},
   "source": [
    "<a class=\"anchor\" id=\"1.1.2\"></a>\n",
    "### 1.1.2 Extracting K-line of USDT pairs 1 DAY\n",
    "[Back To Top](#toc)"
   ]
  },
  {
   "cell_type": "code",
   "execution_count": 67,
   "id": "5d4d20a7",
   "metadata": {},
   "outputs": [
    {
     "ename": "IndentationError",
     "evalue": "unexpected indent (1030770868.py, line 6)",
     "output_type": "error",
     "traceback": [
      "\u001b[1;36m  Cell \u001b[1;32mIn [67], line 6\u001b[1;36m\u001b[0m\n\u001b[1;33m    date_2K_ago = str(datetime.now() + timedelta(days=-2000))\u001b[0m\n\u001b[1;37m    ^\u001b[0m\n\u001b[1;31mIndentationError\u001b[0m\u001b[1;31m:\u001b[0m unexpected indent\n"
     ]
    }
   ],
   "source": [
    "#HISTORICAL DATA IS K-line\n",
    "for i in range(0,len(tickers_df.index)-1):\n",
    "    \n",
    "    # Access all the K-line data (all price and volume) of a symbol\n",
    "    #Access date 2000 days ago: Binance listed the crypto in Aug 2017 so 2000 days ago will cover all crypto listed since 2017\n",
    "    date_2K_ago = str(datetime.now() + timedelta(days=-2000))\n",
    "    \n",
    "    historical = client.get_historical_klines(tickers_df.index[i], client.KLINE_INTERVAL_1DAY, start_str=date_2K_ago)\n",
    "    \n",
    "    # Put the data into a DF\n",
    "    hist_df = pd.DataFrame(historical)\n",
    "\n",
    "    # Name the columns then convert the Open and Close time to second\n",
    "    hist_df.columns = ['Open time', 'Open', 'High', 'Low', 'Close','Volume', 'Close time', 'Quote asset volume',\n",
    "                       'Number of trades','Taker buy base asset volume', 'Taker buy quote asset volume', 'ignore']\n",
    "    hist_df['Open time'] = pd.to_datetime(hist_df['Open time']/ 1000, unit ='s')\n",
    "    hist_df['Close time'] = pd.to_datetime(hist_df['Close time']/ 1000, unit ='s')\n",
    "\n",
    "    # Convert all numeric columns into the right format: float64\n",
    "    numeric_columns = ['Open', 'High', 'Low', 'Close', 'Volume', 'Quote asset volume', 'Taker buy base asset volume', 'Taker buy quote asset volume']\n",
    "    hist_df[numeric_columns] = hist_df[numeric_columns].apply(pd.to_numeric, axis=1)\n",
    "\n",
    "    # Add a column with a symbol of the crypto\n",
    "    hist_df['symbol'] = tickers_df.index[i]\n",
    "    \n",
    "    #Save to .csv \n",
    "    path = r'C:\\Users\\ethai\\OneDrive\\1.1. Education\\1. BrainStation\\0. Capstone\\data_1D\\ ' #super important to have 'r' and '\\ ' -backward slash with space in the end\n",
    "    hist_df.to_csv(path + tickers_df.index[i]+'_1D.csv')"
   ]
  },
  {
   "cell_type": "markdown",
   "id": "f37e4525",
   "metadata": {},
   "source": [
    "<a class=\"anchor\" id=\"1.1.3\"></a>\n",
    "### 1.1.3 Extracting K-line of USDT pairs 1H\n",
    "[Back To Top](#toc)"
   ]
  },
  {
   "cell_type": "markdown",
   "id": "69c87338",
   "metadata": {},
   "source": [
    "We will be more interested in extracting the Kline 1H as it give us more rows ( about 7M rows) comparing to 1D (about 300K rows). In addition, the 1H dataset will give us flexibility in using time series "
   ]
  },
  {
   "cell_type": "code",
   "execution_count": 8,
   "id": "a49e90cf",
   "metadata": {},
   "outputs": [],
   "source": [
    "#HISTORICAL DATA IS K-line\n",
    "for i in range(0,len(tickers_df.index)-1):\n",
    "    \n",
    "    # Access all the K-line data (all price and volume) of a symbol\n",
    "    #Access date 2000 days ago: Binance listed the crypto in Aug 2017 so 2000 days ago will cover all crypto listed since 2017\n",
    "    date_2K_ago = str(datetime.now() + timedelta(days=-2000))\n",
    "    \n",
    "    historical = client.get_historical_klines(tickers_df.index[i], client.KLINE_INTERVAL_1HOUR, start_str=date_2K_ago)\n",
    "    \n",
    "    # Put the data into a DF\n",
    "    hist_df = pd.DataFrame(historical)\n",
    "\n",
    "    # Name the columns then convert the Open and Close time to second\n",
    "    hist_df.columns = ['Open time', 'Open', 'High', 'Low', 'Close','Volume', 'Close time', 'Quote asset volume',\n",
    "                       'Number of trades','Taker buy base asset volume', 'Taker buy quote asset volume', 'ignore']\n",
    "    hist_df['Open time'] = pd.to_datetime(hist_df['Open time']/ 1000, unit ='s')\n",
    "    hist_df['Close time'] = pd.to_datetime(hist_df['Close time']/ 1000, unit ='s')\n",
    "\n",
    "    # Convert all numeric columns into the right format: float64\n",
    "    numeric_columns = ['Open', 'High', 'Low', 'Close', 'Volume', 'Quote asset volume', 'Taker buy base asset volume', 'Taker buy quote asset volume']\n",
    "    hist_df[numeric_columns] = hist_df[numeric_columns].apply(pd.to_numeric, axis=1)\n",
    "\n",
    "    # Add a column with a symbol of the crypto\n",
    "    hist_df['symbol'] = tickers_df.index[i]\n",
    "    \n",
    "    #Save to .csv \n",
    "    path = r'C:\\Users\\ethai\\OneDrive\\1.1. Education\\1. BrainStation\\0. Capstone\\data_1HH\\ ' #super important to have 'r' and '\\ ' -backward slash with space in the end\n",
    "    hist_df.to_csv(path + tickers_df.index[i] + '_1H.csv')"
   ]
  },
  {
   "cell_type": "markdown",
   "id": "1e3f93f5",
   "metadata": {},
   "source": [
    "<a class=\"anchor\" id=\"1.2\"></a>\n",
    "## 1.2 Access all BTC Trading pairs\n",
    "[Back To Top](#toc)"
   ]
  },
  {
   "cell_type": "markdown",
   "id": "a7958b1d",
   "metadata": {},
   "source": [
    "The following codes are similar to USDT 1 hour, except the crypto pairs will be Crypto-BTC. This is similar to Stock-Gold, rather than USD. This is for REFERENCE ONLY. The data will not be used for further analysis."
   ]
  },
  {
   "cell_type": "markdown",
   "id": "1a74289c",
   "metadata": {},
   "source": [
    "<a class=\"anchor\" id=\"1.2.1\"></a>\n",
    "### 1.2.1 Extracting K-line of BTC pairs 1H\n",
    "[Back To Top](#toc)"
   ]
  },
  {
   "cell_type": "markdown",
   "id": "2a05c528",
   "metadata": {},
   "source": [
    "This will access all crypto pairs that end with BTC"
   ]
  },
  {
   "cell_type": "code",
   "execution_count": null,
   "id": "fefde4ca",
   "metadata": {},
   "outputs": [
    {
     "data": {
      "text/plain": [
       "(411, 1)"
      ]
     },
     "execution_count": 3,
     "metadata": {},
     "output_type": "execute_result"
    }
   ],
   "source": [
    "#Access all ticket + immedate price\n",
    "tickers_btc = client.get_all_tickers()\n",
    "#put them into a DF\n",
    "tickers_btc_df = pd.DataFrame(tickers_btc)\n",
    "\n",
    "#Filter out only ticker that is pair END with BTC = 'BTC$' $ means end string\n",
    "tickers_btc_df = tickers_btc_df[tickers_btc_df['symbol'].str.contains('BTC$')]\n",
    "\n",
    "#Use Symbol as the index instead of default index\n",
    "tickers_btc_df.set_index('symbol', inplace =True) #inplace=True apply the function to the dataframe\n",
    "\n",
    "#check the DF\n",
    "tickers_btc_df.shape"
   ]
  },
  {
   "cell_type": "code",
   "execution_count": null,
   "id": "1cd27653",
   "metadata": {},
   "outputs": [
    {
     "data": {
      "text/plain": [
       "'OSMOBTC'"
      ]
     },
     "execution_count": 4,
     "metadata": {},
     "output_type": "execute_result"
    }
   ],
   "source": [
    "# Check for the newest crypto pairs BTC on Binance\n",
    "tickers_btc_df.index[tickers_btc_df.shape[0]-1]"
   ]
  },
  {
   "cell_type": "code",
   "execution_count": null,
   "id": "136358bd",
   "metadata": {},
   "outputs": [
    {
     "data": {
      "text/plain": [
       "'2017-05-11 22:58:23.616417'"
      ]
     },
     "execution_count": 5,
     "metadata": {},
     "output_type": "execute_result"
    }
   ],
   "source": [
    "date_2K_ago = str(datetime.now() + timedelta(days=-2000))\n",
    "date_2K_ago"
   ]
  },
  {
   "cell_type": "code",
   "execution_count": null,
   "id": "3fc8da53",
   "metadata": {
    "scrolled": true
   },
   "outputs": [],
   "source": [
    "#HISTORICAL DATA IS K-line\n",
    "for i in range(0,len(tickers_btc_df.index)-1):\n",
    "    \n",
    "    # Access all the K-line data (all price and volume) of a symbol\n",
    "    #Access date 2000 days ago: Binance listed the crypto in Aug 2017 so 2000 days ago will cover all crypto listed since 2017\n",
    "    date_2K_ago = str(datetime.now() + timedelta(days=-2000))\n",
    "    \n",
    "    historical_btc = client.get_historical_klines(tickers_btc_df.index[i], client.KLINE_INTERVAL_1HOUR, start_str=date_2K_ago)\n",
    "    \n",
    "    # Put the data into a DF\n",
    "    hist_btc_df = pd.DataFrame(historical_btc)\n",
    "\n",
    "    # Name the columns then convert the Open and Close time to second\n",
    "    hist_btc_df.columns = ['Open time', 'Open', 'High', 'Low', 'Close','Volume', 'Close time', 'Quote asset volume',\n",
    "                       'Number of trades','Taker buy base asset volume', 'Taker buy quote asset volume', 'ignore']\n",
    "    hist_btc_df['Open time'] = pd.to_datetime(hist_btc_df['Open time']/ 1000, unit ='s')\n",
    "    hist_btc_df['Close time'] = pd.to_datetime(hist_btc_df['Close time']/ 1000, unit ='s')\n",
    "\n",
    "    # Convert all numeric columns into the right format: float64\n",
    "    numeric_columns = ['Open', 'High', 'Low', 'Close', 'Volume', 'Quote asset volume', 'Taker buy base asset volume', 'Taker buy quote asset volume']\n",
    "    hist_btc_df[numeric_columns] = hist_btc_df[numeric_columns].apply(pd.to_numeric, axis=1)\n",
    "\n",
    "    # Add a column with a symbol of the crypto\n",
    "    hist_btc_df['symbol'] = tickers_btc_df.index[i]\n",
    "    \n",
    "    #Save to .pkl \n",
    "    path = r'C:\\Users\\ethai\\OneDrive\\1.1. Education\\1. BrainStation\\0. Capstone\\data_1H_btc\\ ' #super important to have 'r' and '\\ ' -backward slash with space in the end\n",
    "    hist_btc_df.to_pickle(path + tickers_btc_df.index[i] + '_1H.pkl')"
   ]
  },
  {
   "cell_type": "markdown",
   "id": "4a050471",
   "metadata": {},
   "source": [
    "<a class=\"anchor\" id=\"1.3\"></a>\n",
    "## 1.3 Merging files\n",
    "[Back To Top](#toc)"
   ]
  },
  {
   "cell_type": "markdown",
   "id": "0cab959e",
   "metadata": {},
   "source": [
    "One of the mistake is saving the dataset into .csv which exceed its capacity 'The dataset is too large. loading the dataset may lose some data' - warning from tryin to open the .csv file. Thus, we found an article showing other domain to save the file into and pickle seem to be the best one"
   ]
  },
  {
   "cell_type": "code",
   "execution_count": null,
   "id": "4b010b95",
   "metadata": {},
   "outputs": [],
   "source": [
    "#FOR 1D \n",
    "# Define the file extension\n",
    "all_files_1D = glob.glob('data_1D/*1D.csv')\n",
    "all_files_1D\n",
    "# combine all files in the list\n",
    "combined_1D = pd.concat((pd.read_csv(f, index_col=None, header=0) for f in all_files_1D))\n",
    "# export to csv\n",
    "combined_1D.to_csv(\"1D_combined.csv\")"
   ]
  },
  {
   "cell_type": "markdown",
   "id": "58e18a22",
   "metadata": {},
   "source": [
    "Use this website to learn about difference type of options other than csv\n",
    "https://towardsdatascience.com/still-saving-your-data-in-csv-try-these-other-options-9abe8b83db3a"
   ]
  },
  {
   "cell_type": "code",
   "execution_count": 3,
   "id": "a465171a",
   "metadata": {},
   "outputs": [],
   "source": [
    "#FOR 1H\n",
    "# Define the file extension\n",
    "all_files_1H = glob.glob('data_1HH/*1H.csv')\n",
    "all_files_1H\n",
    "# combine all files in the list\n",
    "combined_1H = pd.concat((pd.read_csv(f, index_col=None, header=0) for f in all_files_1H))\n",
    "# export to pickle to save size as csv cant handle large size\n",
    "combined_1H.to_pickle(\"1HH_combined.pkl\")"
   ]
  },
  {
   "cell_type": "markdown",
   "id": "1724eadf",
   "metadata": {},
   "source": [
    "This method is for the BTC pairs. As the files are saved as .pkl thus, only need to concat all of them together"
   ]
  },
  {
   "cell_type": "code",
   "execution_count": null,
   "id": "ca3efd62",
   "metadata": {},
   "outputs": [],
   "source": [
    "#FOR 1H\n",
    "# Define the file extension\n",
    "all_files_1H_btc = glob.glob('data_1H_btc/*1H.pkl')\n",
    "\n",
    "# Combine all files in the list\n",
    "combined_1H_btc = pd.concat((pd.read_pickle(f) for f in all_files_1H_btc))\n",
    "# Export to pickle to save size as csv cant handle large size\n",
    "combined_1H_btc.to_pickle(\"1H_combined_btc.pkl\")"
   ]
  },
  {
   "cell_type": "markdown",
   "id": "098e95f7",
   "metadata": {},
   "source": [
    "<a class=\"anchor\" id=\"1.4\"></a>\n",
    "## 1.4 Basic EDA and Cleaning DF\n",
    "[Back To Top](#toc)"
   ]
  },
  {
   "cell_type": "markdown",
   "id": "adefeca9",
   "metadata": {},
   "source": [
    "<a class=\"anchor\" id=\"1.4.1\"></a>\n",
    "### 1.4.1 Cleaning USDT pairs\n",
    "[Back To Top](#toc)"
   ]
  },
  {
   "cell_type": "code",
   "execution_count": 3,
   "id": "b9cb6269",
   "metadata": {},
   "outputs": [
    {
     "data": {
      "text/html": [
       "<div>\n",
       "<style scoped>\n",
       "    .dataframe tbody tr th:only-of-type {\n",
       "        vertical-align: middle;\n",
       "    }\n",
       "\n",
       "    .dataframe tbody tr th {\n",
       "        vertical-align: top;\n",
       "    }\n",
       "\n",
       "    .dataframe thead th {\n",
       "        text-align: right;\n",
       "    }\n",
       "</style>\n",
       "<table border=\"1\" class=\"dataframe\">\n",
       "  <thead>\n",
       "    <tr style=\"text-align: right;\">\n",
       "      <th></th>\n",
       "      <th>Open time</th>\n",
       "      <th>Open</th>\n",
       "      <th>High</th>\n",
       "      <th>Low</th>\n",
       "      <th>Close</th>\n",
       "      <th>Volume</th>\n",
       "      <th>Close time</th>\n",
       "      <th>Quote asset volume</th>\n",
       "      <th>Number of trades</th>\n",
       "      <th>Taker buy base asset volume</th>\n",
       "      <th>Taker buy quote asset volume</th>\n",
       "      <th>symbol</th>\n",
       "    </tr>\n",
       "  </thead>\n",
       "  <tbody>\n",
       "    <tr>\n",
       "      <th>0</th>\n",
       "      <td>2021-04-15 07:00:00</td>\n",
       "      <td>10.0000</td>\n",
       "      <td>10.2500</td>\n",
       "      <td>9.9700</td>\n",
       "      <td>10.0700</td>\n",
       "      <td>9367.65</td>\n",
       "      <td>2021-04-15 08:00:00</td>\n",
       "      <td>95067.46</td>\n",
       "      <td>816</td>\n",
       "      <td>7204.75</td>\n",
       "      <td>73150.56</td>\n",
       "      <td>1INCHDOWNUSDT</td>\n",
       "    </tr>\n",
       "    <tr>\n",
       "      <th>1</th>\n",
       "      <td>2021-04-15 08:00:00</td>\n",
       "      <td>10.0300</td>\n",
       "      <td>10.3000</td>\n",
       "      <td>9.7400</td>\n",
       "      <td>10.2100</td>\n",
       "      <td>2426.47</td>\n",
       "      <td>2021-04-15 09:00:00</td>\n",
       "      <td>24341.43</td>\n",
       "      <td>197</td>\n",
       "      <td>1115.29</td>\n",
       "      <td>11307.37</td>\n",
       "      <td>1INCHDOWNUSDT</td>\n",
       "    </tr>\n",
       "    <tr>\n",
       "      <th>2</th>\n",
       "      <td>2021-04-15 09:00:00</td>\n",
       "      <td>10.1700</td>\n",
       "      <td>10.2500</td>\n",
       "      <td>9.8600</td>\n",
       "      <td>9.9200</td>\n",
       "      <td>2581.83</td>\n",
       "      <td>2021-04-15 10:00:00</td>\n",
       "      <td>25920.09</td>\n",
       "      <td>200</td>\n",
       "      <td>1799.05</td>\n",
       "      <td>18031.08</td>\n",
       "      <td>1INCHDOWNUSDT</td>\n",
       "    </tr>\n",
       "    <tr>\n",
       "      <th>3</th>\n",
       "      <td>2021-04-15 10:00:00</td>\n",
       "      <td>9.9500</td>\n",
       "      <td>10.2000</td>\n",
       "      <td>9.7500</td>\n",
       "      <td>9.9700</td>\n",
       "      <td>1918.39</td>\n",
       "      <td>2021-04-15 11:00:00</td>\n",
       "      <td>19040.88</td>\n",
       "      <td>224</td>\n",
       "      <td>970.42</td>\n",
       "      <td>9642.83</td>\n",
       "      <td>1INCHDOWNUSDT</td>\n",
       "    </tr>\n",
       "    <tr>\n",
       "      <th>4</th>\n",
       "      <td>2021-04-15 11:00:00</td>\n",
       "      <td>9.9900</td>\n",
       "      <td>9.9900</td>\n",
       "      <td>8.7800</td>\n",
       "      <td>9.1000</td>\n",
       "      <td>9166.34</td>\n",
       "      <td>2021-04-15 12:00:00</td>\n",
       "      <td>84599.23</td>\n",
       "      <td>727</td>\n",
       "      <td>7616.09</td>\n",
       "      <td>70373.02</td>\n",
       "      <td>1INCHDOWNUSDT</td>\n",
       "    </tr>\n",
       "    <tr>\n",
       "      <th>...</th>\n",
       "      <td>...</td>\n",
       "      <td>...</td>\n",
       "      <td>...</td>\n",
       "      <td>...</td>\n",
       "      <td>...</td>\n",
       "      <td>...</td>\n",
       "      <td>...</td>\n",
       "      <td>...</td>\n",
       "      <td>...</td>\n",
       "      <td>...</td>\n",
       "      <td>...</td>\n",
       "      <td>...</td>\n",
       "    </tr>\n",
       "    <tr>\n",
       "      <th>33099</th>\n",
       "      <td>2022-12-10 18:00:00</td>\n",
       "      <td>0.1920</td>\n",
       "      <td>0.1934</td>\n",
       "      <td>0.1918</td>\n",
       "      <td>0.1930</td>\n",
       "      <td>351724.00</td>\n",
       "      <td>2022-12-10 19:00:00</td>\n",
       "      <td>67712.02</td>\n",
       "      <td>305</td>\n",
       "      <td>191306.00</td>\n",
       "      <td>36844.46</td>\n",
       "      <td>ZRXUSDT</td>\n",
       "    </tr>\n",
       "    <tr>\n",
       "      <th>33100</th>\n",
       "      <td>2022-12-10 19:00:00</td>\n",
       "      <td>0.1931</td>\n",
       "      <td>0.1936</td>\n",
       "      <td>0.1928</td>\n",
       "      <td>0.1929</td>\n",
       "      <td>108416.00</td>\n",
       "      <td>2022-12-10 20:00:00</td>\n",
       "      <td>20945.84</td>\n",
       "      <td>190</td>\n",
       "      <td>44794.00</td>\n",
       "      <td>8654.92</td>\n",
       "      <td>ZRXUSDT</td>\n",
       "    </tr>\n",
       "    <tr>\n",
       "      <th>33101</th>\n",
       "      <td>2022-12-10 20:00:00</td>\n",
       "      <td>0.1928</td>\n",
       "      <td>0.1931</td>\n",
       "      <td>0.1919</td>\n",
       "      <td>0.1930</td>\n",
       "      <td>329179.00</td>\n",
       "      <td>2022-12-10 21:00:00</td>\n",
       "      <td>63382.62</td>\n",
       "      <td>221</td>\n",
       "      <td>122794.00</td>\n",
       "      <td>23663.61</td>\n",
       "      <td>ZRXUSDT</td>\n",
       "    </tr>\n",
       "    <tr>\n",
       "      <th>33102</th>\n",
       "      <td>2022-12-10 21:00:00</td>\n",
       "      <td>0.1930</td>\n",
       "      <td>0.1931</td>\n",
       "      <td>0.1922</td>\n",
       "      <td>0.1922</td>\n",
       "      <td>60141.00</td>\n",
       "      <td>2022-12-10 22:00:00</td>\n",
       "      <td>11595.18</td>\n",
       "      <td>132</td>\n",
       "      <td>17820.00</td>\n",
       "      <td>3438.39</td>\n",
       "      <td>ZRXUSDT</td>\n",
       "    </tr>\n",
       "    <tr>\n",
       "      <th>33103</th>\n",
       "      <td>2022-12-10 22:00:00</td>\n",
       "      <td>0.1923</td>\n",
       "      <td>0.1923</td>\n",
       "      <td>0.1923</td>\n",
       "      <td>0.1923</td>\n",
       "      <td>1957.00</td>\n",
       "      <td>2022-12-10 23:00:00</td>\n",
       "      <td>376.33</td>\n",
       "      <td>5</td>\n",
       "      <td>1500.00</td>\n",
       "      <td>288.45</td>\n",
       "      <td>ZRXUSDT</td>\n",
       "    </tr>\n",
       "  </tbody>\n",
       "</table>\n",
       "<p>7046348 rows × 12 columns</p>\n",
       "</div>"
      ],
      "text/plain": [
       "                Open time     Open     High     Low    Close     Volume  \\\n",
       "0     2021-04-15 07:00:00  10.0000  10.2500  9.9700  10.0700    9367.65   \n",
       "1     2021-04-15 08:00:00  10.0300  10.3000  9.7400  10.2100    2426.47   \n",
       "2     2021-04-15 09:00:00  10.1700  10.2500  9.8600   9.9200    2581.83   \n",
       "3     2021-04-15 10:00:00   9.9500  10.2000  9.7500   9.9700    1918.39   \n",
       "4     2021-04-15 11:00:00   9.9900   9.9900  8.7800   9.1000    9166.34   \n",
       "...                   ...      ...      ...     ...      ...        ...   \n",
       "33099 2022-12-10 18:00:00   0.1920   0.1934  0.1918   0.1930  351724.00   \n",
       "33100 2022-12-10 19:00:00   0.1931   0.1936  0.1928   0.1929  108416.00   \n",
       "33101 2022-12-10 20:00:00   0.1928   0.1931  0.1919   0.1930  329179.00   \n",
       "33102 2022-12-10 21:00:00   0.1930   0.1931  0.1922   0.1922   60141.00   \n",
       "33103 2022-12-10 22:00:00   0.1923   0.1923  0.1923   0.1923    1957.00   \n",
       "\n",
       "               Close time  Quote asset volume  Number of trades  \\\n",
       "0     2021-04-15 08:00:00            95067.46               816   \n",
       "1     2021-04-15 09:00:00            24341.43               197   \n",
       "2     2021-04-15 10:00:00            25920.09               200   \n",
       "3     2021-04-15 11:00:00            19040.88               224   \n",
       "4     2021-04-15 12:00:00            84599.23               727   \n",
       "...                   ...                 ...               ...   \n",
       "33099 2022-12-10 19:00:00            67712.02               305   \n",
       "33100 2022-12-10 20:00:00            20945.84               190   \n",
       "33101 2022-12-10 21:00:00            63382.62               221   \n",
       "33102 2022-12-10 22:00:00            11595.18               132   \n",
       "33103 2022-12-10 23:00:00              376.33                 5   \n",
       "\n",
       "       Taker buy base asset volume  Taker buy quote asset volume  \\\n",
       "0                          7204.75                      73150.56   \n",
       "1                          1115.29                      11307.37   \n",
       "2                          1799.05                      18031.08   \n",
       "3                           970.42                       9642.83   \n",
       "4                          7616.09                      70373.02   \n",
       "...                            ...                           ...   \n",
       "33099                    191306.00                      36844.46   \n",
       "33100                     44794.00                       8654.92   \n",
       "33101                    122794.00                      23663.61   \n",
       "33102                     17820.00                       3438.39   \n",
       "33103                      1500.00                        288.45   \n",
       "\n",
       "              symbol  \n",
       "0      1INCHDOWNUSDT  \n",
       "1      1INCHDOWNUSDT  \n",
       "2      1INCHDOWNUSDT  \n",
       "3      1INCHDOWNUSDT  \n",
       "4      1INCHDOWNUSDT  \n",
       "...              ...  \n",
       "33099        ZRXUSDT  \n",
       "33100        ZRXUSDT  \n",
       "33101        ZRXUSDT  \n",
       "33102        ZRXUSDT  \n",
       "33103        ZRXUSDT  \n",
       "\n",
       "[7046348 rows x 12 columns]"
      ]
     },
     "metadata": {},
     "output_type": "display_data"
    },
    {
     "name": "stdout",
     "output_type": "stream",
     "text": [
      "<class 'pandas.core.frame.DataFrame'>\n",
      "Int64Index: 7046348 entries, 0 to 33103\n",
      "Data columns (total 12 columns):\n",
      " #   Column                        Non-Null Count    Dtype         \n",
      "---  ------                        --------------    -----         \n",
      " 0   Open time                     7046348 non-null  datetime64[ns]\n",
      " 1   Open                          7046348 non-null  float64       \n",
      " 2   High                          7046348 non-null  float64       \n",
      " 3   Low                           7046348 non-null  float64       \n",
      " 4   Close                         7046348 non-null  float64       \n",
      " 5   Volume                        7046348 non-null  float64       \n",
      " 6   Close time                    7046348 non-null  datetime64[ns]\n",
      " 7   Quote asset volume            7046348 non-null  float64       \n",
      " 8   Number of trades              7046348 non-null  int64         \n",
      " 9   Taker buy base asset volume   7046348 non-null  float64       \n",
      " 10  Taker buy quote asset volume  7046348 non-null  float64       \n",
      " 11  symbol                        7046348 non-null  object        \n",
      "dtypes: datetime64[ns](2), float64(8), int64(1), object(1)\n",
      "memory usage: 698.9+ MB\n",
      "None\n"
     ]
    }
   ],
   "source": [
    "# Load the .pkl file\n",
    "combined_1Hv1 = pd.read_pickle('1HH_combined.pkl')\n",
    "combined_1Hv1\n",
    "\n",
    "# Drop the uneccessary column (already done in v4 but didnt save correctly)\n",
    "combined_1Hv1 = combined_1Hv1.drop([\"Unnamed: 0\", 'ignore'], axis=1)\n",
    "\n",
    "# Convert Open time and Close time to datetime format\n",
    "combined_1Hv1['Open time'] = pd.to_datetime(combined_1Hv1['Open time'])\n",
    "# Also round the 'Close time to the nearest second'\n",
    "combined_1Hv1['Close time'] = pd.to_datetime(combined_1Hv1['Close time'])\n",
    "\n",
    "# Round these columns to 2 decimals to make them look better\n",
    "combined_1Hv1['Quote asset volume'] = combined_1Hv1['Quote asset volume'].round(2)\n",
    "combined_1Hv1['Taker buy quote asset volume'] = combined_1Hv1['Taker buy quote asset volume'].round(2)\n",
    "combined_1Hv1['Close time'] = combined_1Hv1['Close time'].round('1s')\n",
    "\n",
    "# Check the dataframe\n",
    "display(combined_1Hv1)\n",
    "\n",
    "# Check for dF dtype\n",
    "print(combined_1Hv1.info(show_counts=True))"
   ]
  },
  {
   "cell_type": "markdown",
   "id": "e8835e4b",
   "metadata": {},
   "source": [
    "<a class=\"anchor\" id=\"1.4.2\"></a>\n",
    "### 1.4.2 Remove all Forex and Stable coin pairs\n",
    "[Back To Top](#toc)"
   ]
  },
  {
   "cell_type": "markdown",
   "id": "e547acd0",
   "metadata": {},
   "source": [
    "Earlier during the extraction, there were a few crypto pairs that were STABLE COINS got added into the .pkl. This is not good as stable coins is a 1:1 conversion, for example USDT:BUSD will be the same. The chart will have a straight line at 1.0 USD, just that USDT is from Tether and BUSD is from Binance. They make their own stable coin which is based on the USD. In addition, there are forex crypto pairs such as USDT:ZAR(South African dollar), USDT:RUB (Russian Rubble). We will remove all these forex coins as well. It is important to eliminate these stable coins and forex coins from the dataset otherwise it will affect the predictions. <br>\n",
    "\n",
    "Using regex101.com to check for those stable coins. they will have the form 'USDT***'"
   ]
  },
  {
   "cell_type": "code",
   "execution_count": 4,
   "id": "53030c64",
   "metadata": {},
   "outputs": [
    {
     "name": "stdout",
     "output_type": "stream",
     "text": [
      "Series([], Name: symbol, dtype: int64)\n"
     ]
    }
   ],
   "source": [
    "# Check for all the stable coins and forex\n",
    "combined_1Hv2 = combined_1Hv1[combined_1Hv1['symbol'].str.contains('^USD*')==True]\n",
    "\n",
    "# Counts all unique stable coins and forex\n",
    "print(combined_1Hv2['symbol'].value_counts())"
   ]
  },
  {
   "cell_type": "code",
   "execution_count": 5,
   "id": "0fadc82b",
   "metadata": {
    "scrolled": true
   },
   "outputs": [
    {
     "name": "stdout",
     "output_type": "stream",
     "text": [
      "<class 'pandas.core.frame.DataFrame'>\n",
      "Int64Index: 7046348 entries, 0 to 33103\n",
      "Data columns (total 12 columns):\n",
      " #   Column                        Non-Null Count    Dtype         \n",
      "---  ------                        --------------    -----         \n",
      " 0   Open time                     7046348 non-null  datetime64[ns]\n",
      " 1   Open                          7046348 non-null  float64       \n",
      " 2   High                          7046348 non-null  float64       \n",
      " 3   Low                           7046348 non-null  float64       \n",
      " 4   Close                         7046348 non-null  float64       \n",
      " 5   Volume                        7046348 non-null  float64       \n",
      " 6   Close time                    7046348 non-null  datetime64[ns]\n",
      " 7   Quote asset volume            7046348 non-null  float64       \n",
      " 8   Number of trades              7046348 non-null  int64         \n",
      " 9   Taker buy base asset volume   7046348 non-null  float64       \n",
      " 10  Taker buy quote asset volume  7046348 non-null  float64       \n",
      " 11  symbol                        7046348 non-null  object        \n",
      "dtypes: datetime64[ns](2), float64(8), int64(1), object(1)\n",
      "memory usage: 698.9+ MB\n"
     ]
    }
   ],
   "source": [
    "# Dropp all the stable coints and forex by using ==False, save it to the new DF\n",
    "combined_1Hv2 = combined_1Hv1[combined_1Hv1['symbol'].str.contains('^USD*')==False]\n",
    "\n",
    "# Check the new DF\n",
    "combined_1Hv2.info(show_counts=True)"
   ]
  },
  {
   "cell_type": "markdown",
   "id": "a34f2a54",
   "metadata": {},
   "source": [
    "Great, now the dataset is much cleaner for USDT pairs. Let's save them into a new .csv and .pkl file for further EDA"
   ]
  },
  {
   "cell_type": "code",
   "execution_count": 6,
   "id": "08461e3a",
   "metadata": {},
   "outputs": [],
   "source": [
    "# Save to .csv\n",
    "combined_1Hv2.to_csv(\"1H_combined_clean.csv\")\n",
    "\n",
    "# Save to pickle\n",
    "#combined_1Hv2.to_pickle(\"1H_combined_clean.pkl\")"
   ]
  },
  {
   "cell_type": "markdown",
   "id": "645941a0",
   "metadata": {},
   "source": [
    "### DType Conversion from Float64 to Float32 - REFERENCE ONLY - DO NOT USE"
   ]
  },
  {
   "cell_type": "markdown",
   "id": "b3e2fd2c",
   "metadata": {},
   "source": [
    "DO NOT CONVERT `FLOAT64` to `FLOAT32` otherwise the round(2) will not work"
   ]
  },
  {
   "cell_type": "markdown",
   "id": "774d0d2a",
   "metadata": {},
   "source": [
    "The following transformation is based on this research https://python.plainenglish.io/predicting-cryptocurrency-values-with-gradient-boosting-machines-using-python-70fe8608b75b. The purpose is to make the dataset smaller and faster to process.\n",
    "\n",
    "However, after testing, the float32 do not be able to .round(2), it will keep all the decimals. More info here https://stackoverflow.com/questions/455612/limiting-floats-to-two-decimal-points"
   ]
  },
  {
   "cell_type": "code",
   "execution_count": null,
   "id": "e5edd9c3",
   "metadata": {},
   "outputs": [],
   "source": [
    "# Convert all float64 to float32 to reduce file size, we wont perform complex operations, \n",
    "#however keep the record here just incase we need to reconvert\n",
    "\n",
    "# Let assign the 1Hv2 into a new DF\n",
    "combined_1Hv1_32 = combined_1Hv2\n",
    "\n",
    "# Select columns with 'float64' dtype and int64\n",
    "float64_cols = list(combined_1Hv1.select_dtypes(include='float64'))\n",
    "int64_cols = list(combined_1Hv1.select_dtypes(include='int64'))\n",
    "\n",
    "# The same code again calling the columns\n",
    "combined_1Hv1_32[float64_cols] = combined_1Hv1[float64_cols].astype('float32')\n",
    "combined_1Hv1_32[int64_cols] = combined_1Hv1[int64_cols].astype('int32') #Number of trades CAN only be an integer\n",
    "\n",
    "# Check for dF dtypes 2\n",
    "combined_1Hv1_32.info()"
   ]
  },
  {
   "cell_type": "markdown",
   "id": "73fff797",
   "metadata": {},
   "source": [
    "### Save data to JSON to check using Tableau"
   ]
  },
  {
   "cell_type": "markdown",
   "id": "426f4c0b",
   "metadata": {},
   "source": [
    "DO NOT CONVERT DATA TO JSON. For Tableau, .csv is enough, Tableau cannot read JSON file created by Python due to different indices and diff format. "
   ]
  },
  {
   "cell_type": "code",
   "execution_count": null,
   "id": "31dbb531",
   "metadata": {},
   "outputs": [
    {
     "data": {
      "text/html": [
       "<div>\n",
       "<style scoped>\n",
       "    .dataframe tbody tr th:only-of-type {\n",
       "        vertical-align: middle;\n",
       "    }\n",
       "\n",
       "    .dataframe tbody tr th {\n",
       "        vertical-align: top;\n",
       "    }\n",
       "\n",
       "    .dataframe thead th {\n",
       "        text-align: right;\n",
       "    }\n",
       "</style>\n",
       "<table border=\"1\" class=\"dataframe\">\n",
       "  <thead>\n",
       "    <tr style=\"text-align: right;\">\n",
       "      <th></th>\n",
       "      <th>Open time</th>\n",
       "      <th>Open</th>\n",
       "      <th>High</th>\n",
       "      <th>Low</th>\n",
       "      <th>Close</th>\n",
       "      <th>Volume</th>\n",
       "      <th>Close time</th>\n",
       "      <th>Quote asset volume</th>\n",
       "      <th>Number of trades</th>\n",
       "      <th>Taker buy base asset volume</th>\n",
       "      <th>Taker buy quote asset volume</th>\n",
       "      <th>symbol</th>\n",
       "    </tr>\n",
       "  </thead>\n",
       "  <tbody>\n",
       "    <tr>\n",
       "      <th>0</th>\n",
       "      <td>2021-04-15 07:00:00</td>\n",
       "      <td>10.00</td>\n",
       "      <td>10.25</td>\n",
       "      <td>9.97</td>\n",
       "      <td>10.07</td>\n",
       "      <td>9367.65</td>\n",
       "      <td>2021-04-15 08:00:00</td>\n",
       "      <td>95067.46</td>\n",
       "      <td>816</td>\n",
       "      <td>7204.75</td>\n",
       "      <td>73150.56</td>\n",
       "      <td>1INCHDOWNUSDT</td>\n",
       "    </tr>\n",
       "    <tr>\n",
       "      <th>1</th>\n",
       "      <td>2021-04-15 08:00:00</td>\n",
       "      <td>10.03</td>\n",
       "      <td>10.30</td>\n",
       "      <td>9.74</td>\n",
       "      <td>10.21</td>\n",
       "      <td>2426.47</td>\n",
       "      <td>2021-04-15 09:00:00</td>\n",
       "      <td>24341.43</td>\n",
       "      <td>197</td>\n",
       "      <td>1115.29</td>\n",
       "      <td>11307.37</td>\n",
       "      <td>1INCHDOWNUSDT</td>\n",
       "    </tr>\n",
       "    <tr>\n",
       "      <th>2</th>\n",
       "      <td>2021-04-15 09:00:00</td>\n",
       "      <td>10.17</td>\n",
       "      <td>10.25</td>\n",
       "      <td>9.86</td>\n",
       "      <td>9.92</td>\n",
       "      <td>2581.83</td>\n",
       "      <td>2021-04-15 10:00:00</td>\n",
       "      <td>25920.09</td>\n",
       "      <td>200</td>\n",
       "      <td>1799.05</td>\n",
       "      <td>18031.08</td>\n",
       "      <td>1INCHDOWNUSDT</td>\n",
       "    </tr>\n",
       "    <tr>\n",
       "      <th>3</th>\n",
       "      <td>2021-04-15 10:00:00</td>\n",
       "      <td>9.95</td>\n",
       "      <td>10.20</td>\n",
       "      <td>9.75</td>\n",
       "      <td>9.97</td>\n",
       "      <td>1918.39</td>\n",
       "      <td>2021-04-15 11:00:00</td>\n",
       "      <td>19040.88</td>\n",
       "      <td>224</td>\n",
       "      <td>970.42</td>\n",
       "      <td>9642.83</td>\n",
       "      <td>1INCHDOWNUSDT</td>\n",
       "    </tr>\n",
       "    <tr>\n",
       "      <th>4</th>\n",
       "      <td>2021-04-15 11:00:00</td>\n",
       "      <td>9.99</td>\n",
       "      <td>9.99</td>\n",
       "      <td>8.78</td>\n",
       "      <td>9.10</td>\n",
       "      <td>9166.34</td>\n",
       "      <td>2021-04-15 12:00:00</td>\n",
       "      <td>84599.23</td>\n",
       "      <td>727</td>\n",
       "      <td>7616.09</td>\n",
       "      <td>70373.02</td>\n",
       "      <td>1INCHDOWNUSDT</td>\n",
       "    </tr>\n",
       "  </tbody>\n",
       "</table>\n",
       "</div>"
      ],
      "text/plain": [
       "            Open time   Open   High   Low  Close   Volume          Close time  \\\n",
       "0 2021-04-15 07:00:00  10.00  10.25  9.97  10.07  9367.65 2021-04-15 08:00:00   \n",
       "1 2021-04-15 08:00:00  10.03  10.30  9.74  10.21  2426.47 2021-04-15 09:00:00   \n",
       "2 2021-04-15 09:00:00  10.17  10.25  9.86   9.92  2581.83 2021-04-15 10:00:00   \n",
       "3 2021-04-15 10:00:00   9.95  10.20  9.75   9.97  1918.39 2021-04-15 11:00:00   \n",
       "4 2021-04-15 11:00:00   9.99   9.99  8.78   9.10  9166.34 2021-04-15 12:00:00   \n",
       "\n",
       "   Quote asset volume  Number of trades  Taker buy base asset volume  \\\n",
       "0            95067.46               816                      7204.75   \n",
       "1            24341.43               197                      1115.29   \n",
       "2            25920.09               200                      1799.05   \n",
       "3            19040.88               224                       970.42   \n",
       "4            84599.23               727                      7616.09   \n",
       "\n",
       "   Taker buy quote asset volume         symbol  \n",
       "0                      73150.56  1INCHDOWNUSDT  \n",
       "1                      11307.37  1INCHDOWNUSDT  \n",
       "2                      18031.08  1INCHDOWNUSDT  \n",
       "3                       9642.83  1INCHDOWNUSDT  \n",
       "4                      70373.02  1INCHDOWNUSDT  "
      ]
     },
     "execution_count": 83,
     "metadata": {},
     "output_type": "execute_result"
    }
   ],
   "source": [
    "# Check dataframe\n",
    "combined_1Hv2.head()\n",
    "\n",
    "#Reset_index is required to save the dataset to .json or perform calculation due to dropping rows earlier in STABLE COINS\n",
    "combined_1Hv2.reset_index(inplace=True)"
   ]
  },
  {
   "cell_type": "markdown",
   "id": "e667c9f7",
   "metadata": {},
   "source": [
    "#### Brief Data Analysis Using Tableau"
   ]
  },
  {
   "cell_type": "markdown",
   "id": "c12c2c81",
   "metadata": {},
   "source": [
    "- VENUSDT is VEChain which later on converted to VETUSDT, Need to drop VENUSDT. Source: https://vechaininsider.com/guides/a-complete-guide-to-the-vechain-ven-to-vet-token-swap/\n",
    "\n",
    "- NBTUSDT "
   ]
  },
  {
   "cell_type": "markdown",
   "id": "c2307611",
   "metadata": {},
   "source": [
    "<a class=\"anchor\" id=\"1.4.3\"></a>\n",
    "### 1.4.3 EDA BTC\n",
    "[Back To Top](#toc)"
   ]
  },
  {
   "cell_type": "code",
   "execution_count": null,
   "id": "ce177664",
   "metadata": {},
   "outputs": [
    {
     "data": {
      "text/html": [
       "<div>\n",
       "<style scoped>\n",
       "    .dataframe tbody tr th:only-of-type {\n",
       "        vertical-align: middle;\n",
       "    }\n",
       "\n",
       "    .dataframe tbody tr th {\n",
       "        vertical-align: top;\n",
       "    }\n",
       "\n",
       "    .dataframe thead th {\n",
       "        text-align: right;\n",
       "    }\n",
       "</style>\n",
       "<table border=\"1\" class=\"dataframe\">\n",
       "  <thead>\n",
       "    <tr style=\"text-align: right;\">\n",
       "      <th></th>\n",
       "      <th>Open time</th>\n",
       "      <th>Open</th>\n",
       "      <th>High</th>\n",
       "      <th>Low</th>\n",
       "      <th>Close</th>\n",
       "      <th>Volume</th>\n",
       "      <th>Close time</th>\n",
       "      <th>Quote asset volume</th>\n",
       "      <th>Number of trades</th>\n",
       "      <th>Taker buy base asset volume</th>\n",
       "      <th>Taker buy quote asset volume</th>\n",
       "      <th>symbol</th>\n",
       "    </tr>\n",
       "  </thead>\n",
       "  <tbody>\n",
       "    <tr>\n",
       "      <th>0</th>\n",
       "      <td>2020-12-25 05:00:00</td>\n",
       "      <td>0.000009</td>\n",
       "      <td>0.000168</td>\n",
       "      <td>0.000009</td>\n",
       "      <td>0.000109</td>\n",
       "      <td>2207916.0</td>\n",
       "      <td>2020-12-25 06:00:00</td>\n",
       "      <td>256.88</td>\n",
       "      <td>17168</td>\n",
       "      <td>848358.9</td>\n",
       "      <td>99.52</td>\n",
       "      <td>1INCHBTC</td>\n",
       "    </tr>\n",
       "    <tr>\n",
       "      <th>1</th>\n",
       "      <td>2020-12-25 06:00:00</td>\n",
       "      <td>0.000109</td>\n",
       "      <td>0.000113</td>\n",
       "      <td>0.000094</td>\n",
       "      <td>0.000107</td>\n",
       "      <td>1833765.2</td>\n",
       "      <td>2020-12-25 07:00:00</td>\n",
       "      <td>186.91</td>\n",
       "      <td>11343</td>\n",
       "      <td>678073.5</td>\n",
       "      <td>68.95</td>\n",
       "      <td>1INCHBTC</td>\n",
       "    </tr>\n",
       "    <tr>\n",
       "      <th>2</th>\n",
       "      <td>2020-12-25 07:00:00</td>\n",
       "      <td>0.000106</td>\n",
       "      <td>0.000123</td>\n",
       "      <td>0.000100</td>\n",
       "      <td>0.000110</td>\n",
       "      <td>2067113.5</td>\n",
       "      <td>2020-12-25 08:00:00</td>\n",
       "      <td>236.29</td>\n",
       "      <td>12743</td>\n",
       "      <td>922906.3</td>\n",
       "      <td>105.74</td>\n",
       "      <td>1INCHBTC</td>\n",
       "    </tr>\n",
       "    <tr>\n",
       "      <th>3</th>\n",
       "      <td>2020-12-25 08:00:00</td>\n",
       "      <td>0.000112</td>\n",
       "      <td>0.000120</td>\n",
       "      <td>0.000103</td>\n",
       "      <td>0.000110</td>\n",
       "      <td>1570496.5</td>\n",
       "      <td>2020-12-25 09:00:00</td>\n",
       "      <td>175.10</td>\n",
       "      <td>10418</td>\n",
       "      <td>763736.7</td>\n",
       "      <td>84.82</td>\n",
       "      <td>1INCHBTC</td>\n",
       "    </tr>\n",
       "    <tr>\n",
       "      <th>4</th>\n",
       "      <td>2020-12-25 09:00:00</td>\n",
       "      <td>0.000110</td>\n",
       "      <td>0.000116</td>\n",
       "      <td>0.000107</td>\n",
       "      <td>0.000110</td>\n",
       "      <td>862685.8</td>\n",
       "      <td>2020-12-25 10:00:00</td>\n",
       "      <td>96.20</td>\n",
       "      <td>6533</td>\n",
       "      <td>426465.8</td>\n",
       "      <td>47.59</td>\n",
       "      <td>1INCHBTC</td>\n",
       "    </tr>\n",
       "    <tr>\n",
       "      <th>...</th>\n",
       "      <td>...</td>\n",
       "      <td>...</td>\n",
       "      <td>...</td>\n",
       "      <td>...</td>\n",
       "      <td>...</td>\n",
       "      <td>...</td>\n",
       "      <td>...</td>\n",
       "      <td>...</td>\n",
       "      <td>...</td>\n",
       "      <td>...</td>\n",
       "      <td>...</td>\n",
       "      <td>...</td>\n",
       "    </tr>\n",
       "    <tr>\n",
       "      <th>44901</th>\n",
       "      <td>2022-11-02 02:00:00</td>\n",
       "      <td>0.000012</td>\n",
       "      <td>0.000012</td>\n",
       "      <td>0.000012</td>\n",
       "      <td>0.000012</td>\n",
       "      <td>17619.0</td>\n",
       "      <td>2022-11-02 03:00:00</td>\n",
       "      <td>0.22</td>\n",
       "      <td>97</td>\n",
       "      <td>2737.0</td>\n",
       "      <td>0.03</td>\n",
       "      <td>ZRXBTC</td>\n",
       "    </tr>\n",
       "    <tr>\n",
       "      <th>44902</th>\n",
       "      <td>2022-11-02 03:00:00</td>\n",
       "      <td>0.000012</td>\n",
       "      <td>0.000012</td>\n",
       "      <td>0.000012</td>\n",
       "      <td>0.000012</td>\n",
       "      <td>11673.0</td>\n",
       "      <td>2022-11-02 04:00:00</td>\n",
       "      <td>0.14</td>\n",
       "      <td>39</td>\n",
       "      <td>6312.0</td>\n",
       "      <td>0.08</td>\n",
       "      <td>ZRXBTC</td>\n",
       "    </tr>\n",
       "    <tr>\n",
       "      <th>44903</th>\n",
       "      <td>2022-11-02 04:00:00</td>\n",
       "      <td>0.000012</td>\n",
       "      <td>0.000012</td>\n",
       "      <td>0.000012</td>\n",
       "      <td>0.000012</td>\n",
       "      <td>3925.0</td>\n",
       "      <td>2022-11-02 05:00:00</td>\n",
       "      <td>0.05</td>\n",
       "      <td>18</td>\n",
       "      <td>1876.0</td>\n",
       "      <td>0.02</td>\n",
       "      <td>ZRXBTC</td>\n",
       "    </tr>\n",
       "    <tr>\n",
       "      <th>44904</th>\n",
       "      <td>2022-11-02 05:00:00</td>\n",
       "      <td>0.000012</td>\n",
       "      <td>0.000012</td>\n",
       "      <td>0.000012</td>\n",
       "      <td>0.000012</td>\n",
       "      <td>17741.0</td>\n",
       "      <td>2022-11-02 06:00:00</td>\n",
       "      <td>0.22</td>\n",
       "      <td>109</td>\n",
       "      <td>1349.0</td>\n",
       "      <td>0.02</td>\n",
       "      <td>ZRXBTC</td>\n",
       "    </tr>\n",
       "    <tr>\n",
       "      <th>44905</th>\n",
       "      <td>2022-11-02 06:00:00</td>\n",
       "      <td>0.000012</td>\n",
       "      <td>0.000012</td>\n",
       "      <td>0.000012</td>\n",
       "      <td>0.000012</td>\n",
       "      <td>140.0</td>\n",
       "      <td>2022-11-02 07:00:00</td>\n",
       "      <td>0.00</td>\n",
       "      <td>10</td>\n",
       "      <td>0.0</td>\n",
       "      <td>0.00</td>\n",
       "      <td>ZRXBTC</td>\n",
       "    </tr>\n",
       "  </tbody>\n",
       "</table>\n",
       "<p>8940509 rows × 12 columns</p>\n",
       "</div>"
      ],
      "text/plain": [
       "                Open time      Open      High       Low     Close     Volume  \\\n",
       "0     2020-12-25 05:00:00  0.000009  0.000168  0.000009  0.000109  2207916.0   \n",
       "1     2020-12-25 06:00:00  0.000109  0.000113  0.000094  0.000107  1833765.2   \n",
       "2     2020-12-25 07:00:00  0.000106  0.000123  0.000100  0.000110  2067113.5   \n",
       "3     2020-12-25 08:00:00  0.000112  0.000120  0.000103  0.000110  1570496.5   \n",
       "4     2020-12-25 09:00:00  0.000110  0.000116  0.000107  0.000110   862685.8   \n",
       "...                   ...       ...       ...       ...       ...        ...   \n",
       "44901 2022-11-02 02:00:00  0.000012  0.000012  0.000012  0.000012    17619.0   \n",
       "44902 2022-11-02 03:00:00  0.000012  0.000012  0.000012  0.000012    11673.0   \n",
       "44903 2022-11-02 04:00:00  0.000012  0.000012  0.000012  0.000012     3925.0   \n",
       "44904 2022-11-02 05:00:00  0.000012  0.000012  0.000012  0.000012    17741.0   \n",
       "44905 2022-11-02 06:00:00  0.000012  0.000012  0.000012  0.000012      140.0   \n",
       "\n",
       "               Close time  Quote asset volume  Number of trades  \\\n",
       "0     2020-12-25 06:00:00              256.88             17168   \n",
       "1     2020-12-25 07:00:00              186.91             11343   \n",
       "2     2020-12-25 08:00:00              236.29             12743   \n",
       "3     2020-12-25 09:00:00              175.10             10418   \n",
       "4     2020-12-25 10:00:00               96.20              6533   \n",
       "...                   ...                 ...               ...   \n",
       "44901 2022-11-02 03:00:00                0.22                97   \n",
       "44902 2022-11-02 04:00:00                0.14                39   \n",
       "44903 2022-11-02 05:00:00                0.05                18   \n",
       "44904 2022-11-02 06:00:00                0.22               109   \n",
       "44905 2022-11-02 07:00:00                0.00                10   \n",
       "\n",
       "       Taker buy base asset volume  Taker buy quote asset volume    symbol  \n",
       "0                         848358.9                         99.52  1INCHBTC  \n",
       "1                         678073.5                         68.95  1INCHBTC  \n",
       "2                         922906.3                        105.74  1INCHBTC  \n",
       "3                         763736.7                         84.82  1INCHBTC  \n",
       "4                         426465.8                         47.59  1INCHBTC  \n",
       "...                            ...                           ...       ...  \n",
       "44901                       2737.0                          0.03    ZRXBTC  \n",
       "44902                       6312.0                          0.08    ZRXBTC  \n",
       "44903                       1876.0                          0.02    ZRXBTC  \n",
       "44904                       1349.0                          0.02    ZRXBTC  \n",
       "44905                          0.0                          0.00    ZRXBTC  \n",
       "\n",
       "[8940509 rows x 12 columns]"
      ]
     },
     "execution_count": 3,
     "metadata": {},
     "output_type": "execute_result"
    }
   ],
   "source": [
    "# Read the combined pickle file of BTC\n",
    "combined_1H_btc = pd.read_pickle('1H_combined_btc.pkl')\n",
    "\n",
    "# Drop the uneccessary column (already done in v4 but didnt save correctly)\n",
    "combined_1H_btc = combined_1H_btc.drop(['ignore'], axis=1)\n",
    "\n",
    "# Round these columns to 2 decimals to make them look better\n",
    "combined_1H_btc['Quote asset volume'] = combined_1H_btc['Quote asset volume'].round(2)\n",
    "combined_1H_btc['Taker buy quote asset volume'] = combined_1H_btc['Taker buy quote asset volume'].round(2)\n",
    "combined_1H_btc['Close time'] = combined_1H_btc['Close time'].round('1s')\n",
    "\n",
    "\n",
    "# Check the DF\n",
    "# Display will make the table look nice, print may not\n",
    "display(combined_1H_btc) \n",
    "\n",
    "# Check for dF dtypes\n",
    "print(combined_1H_btc.info(show_counts=True))"
   ]
  },
  {
   "cell_type": "markdown",
   "id": "cf3524f9",
   "metadata": {},
   "source": [
    "Save a clean version as .csv and .pkl. Use .csv for analyzing with Tableau."
   ]
  },
  {
   "cell_type": "code",
   "execution_count": null,
   "id": "cfb1ac0d",
   "metadata": {},
   "outputs": [],
   "source": [
    "# Save to .csv\n",
    "combined_1H_btc.to_csv(\"1H_combined_clean_btc.csv\")\n",
    "\n",
    "# Save to pickle\n",
    "combined_1H_btc.to_pickle(\"1H_combined_clean_btc.pkl\")"
   ]
  },
  {
   "cell_type": "markdown",
   "id": "e914fb21",
   "metadata": {},
   "source": [
    "#### Brief Data Analysis Using Tableau"
   ]
  },
  {
   "cell_type": "markdown",
   "id": "ad2193ad",
   "metadata": {},
   "source": [
    "BRIEF ANALYSIS, found a few cryto pairs to drop\n",
    "- BTCBBTC Bitcoin BEP2 is a Bitcoin clone issued on Binance Chain. Its price is always as close as possible to the price of the underlying asset – Bitcoin – and each BTCB is backed by an actual BTC. The pegged BTCB tokens are therefore 100% backed by their own reserve coin, Bitcoin.\n",
    "- RENTBTCBTC RenBTC becomes the latest in a rash of products built to expose bitcoin-backed assets to the benefits of Ethereum's various decentralized finance (DeFi) platforms. 1 RenBTC is equivalent to 1 BTC, although the first is actually a ERC-20 token running on Ethereum.\n",
    "- WBTCBTC wBTC Wrapped Bitcoin (WBTC) is the first ERC20 token backed 1:1 with Bitcoin. \n"
   ]
  }
 ],
 "metadata": {
  "kernelspec": {
   "display_name": "timeseries",
   "language": "python",
   "name": "python3"
  },
  "language_info": {
   "codemirror_mode": {
    "name": "ipython",
    "version": 3
   },
   "file_extension": ".py",
   "mimetype": "text/x-python",
   "name": "python",
   "nbconvert_exporter": "python",
   "pygments_lexer": "ipython3",
   "version": "3.8.13"
  },
  "vscode": {
   "interpreter": {
    "hash": "e075b2bf36d8f1dfdb2f81935310c3a58ec79a9d8fb7ee38c2ac0aa9a88080d7"
   }
  }
 },
 "nbformat": 4,
 "nbformat_minor": 5
}
