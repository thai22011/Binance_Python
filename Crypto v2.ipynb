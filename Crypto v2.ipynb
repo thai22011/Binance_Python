{
 "cells": [
  {
   "cell_type": "markdown",
   "id": "9bc88cc9",
   "metadata": {},
   "source": [
    "# Import the Libraries"
   ]
  },
  {
   "cell_type": "code",
   "execution_count": 2,
   "id": "3b3b659e",
   "metadata": {},
   "outputs": [],
   "source": [
    "from binance import Client as c\n",
    "from binance import BinanceSocketManager as bsm\n",
    "from binance import ThreadedDepthCacheManager as tdcm\n",
    "\n",
    "import mplfinance as mpf\n",
    "import pandas as pd\n",
    "import numpy as np\n",
    "\n",
    "from scipy import stats\n",
    "from scipy.stats import norm\n",
    "import statsmodels.api as sm\n",
    "\n",
    "import seaborn as sns\n",
    "import matplotlib.pyplot as plt\n",
    "%matplotlib inline\n",
    "\n",
    "import math\n",
    "import os\n",
    "import time\n",
    "from datetime import datetime, timedelta\n",
    "from dateutil import parser\n",
    "from tqdm import tqdm_notebook #(Optional, used for progress-bars)"
   ]
  },
  {
   "cell_type": "markdown",
   "id": "64bd70c7",
   "metadata": {},
   "source": [
    "# Access API, Extract USDT Crypto pairs"
   ]
  },
  {
   "cell_type": "code",
   "execution_count": 10,
   "id": "42b8df7b",
   "metadata": {},
   "outputs": [],
   "source": [
    "api_key = 'fx5ofaufVHZeHGCvMhA8pDt7oDaQ54tqIm89SbQXMg1kwSNjDgpfuAW9WWZy75UW'\n",
    "api_secret = 'MmZB4hRimIG0pcfxQSmo8TdbE46SKlaQQO8vLDez3bTqU5dFgVwk7GGOHySlqarM'\n",
    "\n",
    "client = c(api_key, api_secret)"
   ]
  },
  {
   "cell_type": "code",
   "execution_count": 11,
   "id": "8aadf73b",
   "metadata": {},
   "outputs": [
    {
     "data": {
      "text/plain": [
       "(425, 1)"
      ]
     },
     "execution_count": 11,
     "metadata": {},
     "output_type": "execute_result"
    }
   ],
   "source": [
    "#Access all ticket + immedate price\n",
    "tickers = client.get_all_tickers()\n",
    "#put them into a DF\n",
    "tickers_df = pd.DataFrame(tickers)\n",
    "\n",
    "#Filter out only ticker that is pair USDT\n",
    "tickers_df = tickers_df[tickers_df['symbol'].str.contains('USDT')]\n",
    "\n",
    "#Use Symbol as the index instead of default index\n",
    "tickers_df.set_index('symbol', inplace =True) #inplace=True apply the function to the dataframe\n",
    "\n",
    "#check the DF\n",
    "tickers_df.shape"
   ]
  },
  {
   "cell_type": "code",
   "execution_count": 12,
   "id": "90a06f5a",
   "metadata": {},
   "outputs": [
    {
     "data": {
      "text/plain": [
       "price    20760.74000000\n",
       "Name: BTCUSDT, dtype: object"
      ]
     },
     "execution_count": 12,
     "metadata": {},
     "output_type": "execute_result"
    }
   ],
   "source": [
    "# use this code to check for a specific pair\n",
    "tickers_df.loc['BTCUSDT']"
   ]
  },
  {
   "cell_type": "code",
   "execution_count": 13,
   "id": "351e5cc4",
   "metadata": {},
   "outputs": [
    {
     "data": {
      "text/html": [
       "<div>\n",
       "<style scoped>\n",
       "    .dataframe tbody tr th:only-of-type {\n",
       "        vertical-align: middle;\n",
       "    }\n",
       "\n",
       "    .dataframe tbody tr th {\n",
       "        vertical-align: top;\n",
       "    }\n",
       "\n",
       "    .dataframe thead th {\n",
       "        text-align: right;\n",
       "    }\n",
       "</style>\n",
       "<table border=\"1\" class=\"dataframe\">\n",
       "  <thead>\n",
       "    <tr style=\"text-align: right;\">\n",
       "      <th></th>\n",
       "      <th>price</th>\n",
       "    </tr>\n",
       "    <tr>\n",
       "      <th>symbol</th>\n",
       "      <th></th>\n",
       "    </tr>\n",
       "  </thead>\n",
       "  <tbody>\n",
       "    <tr>\n",
       "      <th>BTCUSDT</th>\n",
       "      <td>20760.74000000</td>\n",
       "    </tr>\n",
       "    <tr>\n",
       "      <th>ETHUSDT</th>\n",
       "      <td>1564.79000000</td>\n",
       "    </tr>\n",
       "    <tr>\n",
       "      <th>BNBUSDT</th>\n",
       "      <td>290.70000000</td>\n",
       "    </tr>\n",
       "    <tr>\n",
       "      <th>BCCUSDT</th>\n",
       "      <td>448.70000000</td>\n",
       "    </tr>\n",
       "    <tr>\n",
       "      <th>NEOUSDT</th>\n",
       "      <td>8.65000000</td>\n",
       "    </tr>\n",
       "  </tbody>\n",
       "</table>\n",
       "</div>"
      ],
      "text/plain": [
       "                  price\n",
       "symbol                 \n",
       "BTCUSDT  20760.74000000\n",
       "ETHUSDT   1564.79000000\n",
       "BNBUSDT    290.70000000\n",
       "BCCUSDT    448.70000000\n",
       "NEOUSDT      8.65000000"
      ]
     },
     "execution_count": 13,
     "metadata": {},
     "output_type": "execute_result"
    }
   ],
   "source": [
    "# Check he DF:\n",
    "tickers_df.head()"
   ]
  },
  {
   "cell_type": "code",
   "execution_count": 30,
   "id": "2fc09af4",
   "metadata": {},
   "outputs": [
    {
     "data": {
      "text/plain": [
       "'APTUSDT'"
      ]
     },
     "execution_count": 30,
     "metadata": {},
     "output_type": "execute_result"
    }
   ],
   "source": [
    "# A fast way to Call the latest symbol \n",
    "tickers_df.index[tickers_df.shape[0]-1]"
   ]
  },
  {
   "cell_type": "code",
   "execution_count": 70,
   "id": "e227b85e",
   "metadata": {},
   "outputs": [],
   "source": [
    "# for i in range(1, len(data_all) + 1):          # Write each DataFrame to separate CSV\n",
    "#     data_i = data_all['data' + str(i)]\n",
    "#     data_i.to_csv('data' + str(i) + '.csv')\n",
    "\n",
    "# Use this ?? to get doc help\n",
    "#historical = client.get_historical_klines\n"
   ]
  },
  {
   "cell_type": "code",
   "execution_count": null,
   "id": "5d4d20a7",
   "metadata": {},
   "outputs": [],
   "source": [
    "#HISTORICAL DATA IS K-line\n",
    "for i in range(0, len(tickers_df)-1):\n",
    "    \n",
    "    # Access all the Kline data of a symbol from today to 1000 days ago (1/2020)\n",
    "    # Max Limit is 1000 lines\n",
    "    historical1 = client.get_historical_klines(tickers_df.index[i], client.KLINE_INTERVAL_1DAY, limit =1000)\n",
    "    \n",
    "    #Access date 2000 days ago:\n",
    "    date_2K_ago = str(datetime.now() + timedelta(days=-2000))\n",
    "    # Access all the Kline data of a symbol from 1000 days ago (1/2020) to 2000 days ago (5/2017)\n",
    "    # Max Limit is 1000 lines\n",
    "    historical2 = client.get_historical_klines(tickers_df.index[i], client.KLINE_INTERVAL_1DAY, start_str=date_2K_ago, limit =1000)\n",
    "    \n",
    "    #Append data from 2000 days ago till now\n",
    "    historical = historical1 + historical 2\n",
    "    \n",
    "    # Put the data into a DF\n",
    "    hist_df = pd.DataFrame(historical)\n",
    "\n",
    "    # Name the columns then convert the Open and Close time to second\n",
    "    hist_df.columns = ['Open time', 'Open', 'High', 'Low', 'Close','Volume', 'Close time', 'Quote asset volume', 'Number of trades','Taker buy base asset volume', 'Taker buy quote asset volume', 'ignore']\n",
    "    hist_df['Open time'] = pd.to_datetime(hist_df['Open time']/ 1000, unit ='s')\n",
    "    hist_df['Close time'] = pd.to_datetime(hist_df['Close time']/ 1000, unit ='s')\n",
    "\n",
    "    # Convert all numeric columns into the right format: float64\n",
    "    numeric_columns = ['Open', 'High', 'Low', 'Close', 'Volume', 'Quote asset volume', 'Taker buy base asset volume', 'Taker buy quote asset volume']\n",
    "    hist_df[numeric_columns] = hist_df[numeric_columns].apply(pd.to_numeric, axis=1)\n",
    "\n",
    "    # Add a column with a symbol of the crypto\n",
    "    hist_df['symbol'] = tickers_df.index[i]\n",
    "    \n",
    "    #Save to .csv \n",
    "    path = r'C:\\Users\\ethai\\OneDrive\\1.1. Education\\1. BrainStation\\0. Capstone\\data\\ ' #super important to have 'r' and '\\ ' -backward slash with space in the end\n",
    "    hist_df.to_csv(path + tickers_df.index[i]+'.csv')"
   ]
  }
 ],
 "metadata": {
  "kernelspec": {
   "display_name": "Python 3 (ipykernel)",
   "language": "python",
   "name": "python3"
  },
  "language_info": {
   "codemirror_mode": {
    "name": "ipython",
    "version": 3
   },
   "file_extension": ".py",
   "mimetype": "text/x-python",
   "name": "python",
   "nbconvert_exporter": "python",
   "pygments_lexer": "ipython3",
   "version": "3.9.13"
  }
 },
 "nbformat": 4,
 "nbformat_minor": 5
}
